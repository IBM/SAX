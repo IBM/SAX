{
 "cells": [
  {
   "cell_type": "code",
   "execution_count": 1,
   "metadata": {},
   "outputs": [],
   "source": [
    "import pandas as pd\n",
    "import numpy as np\n",
    "from sklearn.model_selection import train_test_split\n",
    "from sklearn.ensemble import RandomForestClassifier\n",
    "from XRF import XRandomForestClassifier\n",
    "from sklearn.metrics import f1_score, accuracy_score\n",
    "from sklearn.metrics.pairwise import cosine_similarity"
   ]
  },
  {
   "cell_type": "code",
   "execution_count": 2,
   "metadata": {},
   "outputs": [],
   "source": [
    "import warnings\n",
    "warnings.filterwarnings('ignore')"
   ]
  },
  {
   "cell_type": "markdown",
   "metadata": {},
   "source": [
    "## Yeast Dataset"
   ]
  },
  {
   "cell_type": "markdown",
   "metadata": {},
   "source": [
    "### Load dataset from URL"
   ]
  },
  {
   "cell_type": "code",
   "execution_count": 3,
   "metadata": {},
   "outputs": [],
   "source": [
    "data_url = 'https://archive.ics.uci.edu/ml/machine-learning-databases/yeast/yeast.data'\n",
    "names = ['Sequence_Name','mcg', 'gvh', 'alm', 'mit', 'erl','pox','vac','nuc', 'Localization_Site']\n",
    "pdf_yeast = pd.read_csv(data_url, names=names, delim_whitespace=True)"
   ]
  },
  {
   "cell_type": "code",
   "execution_count": 4,
   "metadata": {},
   "outputs": [
    {
     "data": {
      "text/html": [
       "<div>\n",
       "<style scoped>\n",
       "    .dataframe tbody tr th:only-of-type {\n",
       "        vertical-align: middle;\n",
       "    }\n",
       "\n",
       "    .dataframe tbody tr th {\n",
       "        vertical-align: top;\n",
       "    }\n",
       "\n",
       "    .dataframe thead th {\n",
       "        text-align: right;\n",
       "    }\n",
       "</style>\n",
       "<table border=\"1\" class=\"dataframe\">\n",
       "  <thead>\n",
       "    <tr style=\"text-align: right;\">\n",
       "      <th></th>\n",
       "      <th>Sequence_Name</th>\n",
       "      <th>mcg</th>\n",
       "      <th>gvh</th>\n",
       "      <th>alm</th>\n",
       "      <th>mit</th>\n",
       "      <th>erl</th>\n",
       "      <th>pox</th>\n",
       "      <th>vac</th>\n",
       "      <th>nuc</th>\n",
       "      <th>Localization_Site</th>\n",
       "    </tr>\n",
       "  </thead>\n",
       "  <tbody>\n",
       "    <tr>\n",
       "      <th>0</th>\n",
       "      <td>ADT1_YEAST</td>\n",
       "      <td>0.58</td>\n",
       "      <td>0.61</td>\n",
       "      <td>0.47</td>\n",
       "      <td>0.13</td>\n",
       "      <td>0.5</td>\n",
       "      <td>0.0</td>\n",
       "      <td>0.48</td>\n",
       "      <td>0.22</td>\n",
       "      <td>MIT</td>\n",
       "    </tr>\n",
       "    <tr>\n",
       "      <th>1</th>\n",
       "      <td>ADT2_YEAST</td>\n",
       "      <td>0.43</td>\n",
       "      <td>0.67</td>\n",
       "      <td>0.48</td>\n",
       "      <td>0.27</td>\n",
       "      <td>0.5</td>\n",
       "      <td>0.0</td>\n",
       "      <td>0.53</td>\n",
       "      <td>0.22</td>\n",
       "      <td>MIT</td>\n",
       "    </tr>\n",
       "    <tr>\n",
       "      <th>2</th>\n",
       "      <td>ADT3_YEAST</td>\n",
       "      <td>0.64</td>\n",
       "      <td>0.62</td>\n",
       "      <td>0.49</td>\n",
       "      <td>0.15</td>\n",
       "      <td>0.5</td>\n",
       "      <td>0.0</td>\n",
       "      <td>0.53</td>\n",
       "      <td>0.22</td>\n",
       "      <td>MIT</td>\n",
       "    </tr>\n",
       "    <tr>\n",
       "      <th>3</th>\n",
       "      <td>AAR2_YEAST</td>\n",
       "      <td>0.58</td>\n",
       "      <td>0.44</td>\n",
       "      <td>0.57</td>\n",
       "      <td>0.13</td>\n",
       "      <td>0.5</td>\n",
       "      <td>0.0</td>\n",
       "      <td>0.54</td>\n",
       "      <td>0.22</td>\n",
       "      <td>NUC</td>\n",
       "    </tr>\n",
       "    <tr>\n",
       "      <th>4</th>\n",
       "      <td>AATM_YEAST</td>\n",
       "      <td>0.42</td>\n",
       "      <td>0.44</td>\n",
       "      <td>0.48</td>\n",
       "      <td>0.54</td>\n",
       "      <td>0.5</td>\n",
       "      <td>0.0</td>\n",
       "      <td>0.48</td>\n",
       "      <td>0.22</td>\n",
       "      <td>MIT</td>\n",
       "    </tr>\n",
       "  </tbody>\n",
       "</table>\n",
       "</div>"
      ],
      "text/plain": [
       "  Sequence_Name   mcg   gvh   alm   mit  erl  pox   vac   nuc  \\\n",
       "0    ADT1_YEAST  0.58  0.61  0.47  0.13  0.5  0.0  0.48  0.22   \n",
       "1    ADT2_YEAST  0.43  0.67  0.48  0.27  0.5  0.0  0.53  0.22   \n",
       "2    ADT3_YEAST  0.64  0.62  0.49  0.15  0.5  0.0  0.53  0.22   \n",
       "3    AAR2_YEAST  0.58  0.44  0.57  0.13  0.5  0.0  0.54  0.22   \n",
       "4    AATM_YEAST  0.42  0.44  0.48  0.54  0.5  0.0  0.48  0.22   \n",
       "\n",
       "  Localization_Site  \n",
       "0               MIT  \n",
       "1               MIT  \n",
       "2               MIT  \n",
       "3               NUC  \n",
       "4               MIT  "
      ]
     },
     "execution_count": 4,
     "metadata": {},
     "output_type": "execute_result"
    }
   ],
   "source": [
    "pdf_yeast.head(5)"
   ]
  },
  {
   "cell_type": "markdown",
   "metadata": {},
   "source": [
    "### Preprocessing the data"
   ]
  },
  {
   "cell_type": "code",
   "execution_count": 5,
   "metadata": {},
   "outputs": [],
   "source": [
    "target = 'Localization_Site'\n",
    "key = 'Sequence_Name'\n",
    "\n",
    "# Remove scarce labels:\n",
    "pdf_yeast = pdf_yeast[pdf_yeast[target].isin(['CYT', 'NUC', 'MIT', 'ME3'])]\n",
    "\n",
    "X_yeast = pdf_yeast.drop(columns=[key, target], inplace=False)\n",
    "y_yeast = pdf_yeast[[target]]"
   ]
  },
  {
   "cell_type": "markdown",
   "metadata": {},
   "source": [
    "### Set hyper-parameters"
   ]
  },
  {
   "cell_type": "code",
   "execution_count": 6,
   "metadata": {},
   "outputs": [],
   "source": [
    "# RF's hyper-parameters:\n",
    "n_estimators = 40\n",
    "max_depth = 5\n",
    "max_samples = 0.4\n",
    "\n",
    "# GA's hyper-parameters:\n",
    "mutation_probability = 0.7\n",
    "mating_probability = 0.5\n",
    "num_generations = 20\n",
    "\n",
    "# XRF's config:\n",
    "normalize_weights = 'Softmax'\n",
    "target_function = 'Cosine'\n",
    "alpha = 3.5\n",
    "\n",
    "# Random seed:\n",
    "random_state = 42"
   ]
  },
  {
   "cell_type": "markdown",
   "metadata": {},
   "source": [
    "### Split data into train-test"
   ]
  },
  {
   "cell_type": "code",
   "execution_count": 7,
   "metadata": {},
   "outputs": [],
   "source": [
    "X_trn, X_tst, y_trn, y_tst = train_test_split(X_yeast, \n",
    "                                              y_yeast.values.ravel(), \n",
    "                                              test_size=0.2, \n",
    "                                              stratify=y_yeast, \n",
    "                                              random_state=random_state)"
   ]
  },
  {
   "cell_type": "markdown",
   "metadata": {},
   "source": [
    "### Models"
   ]
  },
  {
   "cell_type": "code",
   "execution_count": 8,
   "metadata": {},
   "outputs": [],
   "source": [
    "feature_preferences = [0, 0, -1, -1, 1, 1, 0, 0]"
   ]
  },
  {
   "cell_type": "code",
   "execution_count": 9,
   "metadata": {},
   "outputs": [],
   "source": [
    "pdf_ftr_imprt = pd.DataFrame(columns=X_trn.columns.insert(0, 'ID'))\n",
    "pdf_results = pd.DataFrame(columns=['ID', 'Set', 'Accuracy', 'Macro f1 score', 'XS'])"
   ]
  },
  {
   "cell_type": "markdown",
   "metadata": {},
   "source": [
    "#### RF"
   ]
  },
  {
   "cell_type": "code",
   "execution_count": 10,
   "metadata": {},
   "outputs": [],
   "source": [
    "rf_mdl = RandomForestClassifier(random_state=random_state, \n",
    "                                bootstrap=True, \n",
    "                                n_estimators=n_estimators, \n",
    "                                max_depth=max_depth, \n",
    "                                max_samples=max_samples)\n",
    "_ = rf_mdl.fit(X_trn, y_trn)"
   ]
  },
  {
   "cell_type": "code",
   "execution_count": 11,
   "metadata": {},
   "outputs": [],
   "source": [
    "rf_preds_trn = rf_mdl.predict(X_trn)\n",
    "rf_preds_tst = rf_mdl.predict(X_tst)\n",
    "\n",
    "rf_xs = (cosine_similarity(np.array(feature_preferences).reshape(1, -1), \\\n",
    "                           np.array(rf_mdl.feature_importances_).reshape(1, -1))[0][0] + 1) / 2"
   ]
  },
  {
   "cell_type": "code",
   "execution_count": 12,
   "metadata": {},
   "outputs": [],
   "source": [
    "pdf_ftr_imprt.loc[len(pdf_ftr_imprt)] = ['RF FI'] + list(rf_mdl.feature_importances_)\n",
    "pdf_results.loc[len(pdf_results)] = ['RF', 'Training', accuracy_score(y_trn, rf_preds_trn), f1_score(y_trn, rf_preds_trn, average=\"macro\"), np.nan]\n",
    "pdf_results.loc[len(pdf_results)] = ['RF', 'Test', accuracy_score(y_tst, rf_preds_tst), f1_score(y_tst, rf_preds_tst, average=\"macro\"), rf_xs]"
   ]
  },
  {
   "cell_type": "markdown",
   "metadata": {},
   "source": [
    "#### XRF"
   ]
  },
  {
   "cell_type": "code",
   "execution_count": 13,
   "metadata": {},
   "outputs": [
    {
     "name": "stdout",
     "output_type": "stream",
     "text": [
      "gen\tnevals\tavg    \tstd       \tmin    \tmax    \n",
      "0  \t100   \t1.35971\t0.00551144\t1.34602\t1.37832\n",
      "1  \t84    \t1.36592\t0.00530446\t1.35621\t1.37832\n",
      "2  \t88    \t1.37157\t0.00426008\t1.36143\t1.37938\n",
      "3  \t86    \t1.37523\t0.00364116\t1.36283\t1.38404\n",
      "4  \t86    \t1.37766\t0.00323074\t1.36871\t1.38664\n",
      "5  \t87    \t1.3797 \t0.00406199\t1.36519\t1.3883 \n",
      "6  \t88    \t1.3838 \t0.00272353\t1.378  \t1.38914\n",
      "7  \t69    \t1.38627\t0.00216032\t1.37906\t1.39176\n",
      "8  \t81    \t1.38854\t0.00237746\t1.38319\t1.39694\n",
      "9  \t81    \t1.3919 \t0.00339331\t1.38409\t1.40229\n",
      "10 \t92    \t1.39597\t0.00252292\t1.38936\t1.4055 \n",
      "11 \t81    \t1.39895\t0.00295929\t1.39242\t1.40578\n",
      "12 \t81    \t1.40253\t0.00311802\t1.39058\t1.40859\n",
      "13 \t83    \t1.40524\t0.00189508\t1.39903\t1.41112\n",
      "14 \t85    \t1.40686\t0.00268926\t1.39757\t1.41713\n",
      "15 \t85    \t1.40946\t0.00405056\t1.40192\t1.42559\n",
      "16 \t82    \t1.41485\t0.00543883\t1.40426\t1.42986\n",
      "17 \t89    \t1.42104\t0.00497782\t1.40574\t1.43332\n",
      "18 \t82    \t1.42565\t0.00340776\t1.41486\t1.43685\n",
      "19 \t88    \t1.42959\t0.00379322\t1.41937\t1.44079\n",
      "20 \t84    \t1.43324\t0.0034341 \t1.42214\t1.4439 \n"
     ]
    }
   ],
   "source": [
    "xrf_mdl = XRandomForestClassifier(n_estimators=n_estimators, \n",
    "                                  random_state=random_state, \n",
    "                                  max_depth=max_depth, \n",
    "                                  bootstrap=True, \n",
    "                                  max_samples=max_samples, \n",
    "                                  xai_weight=alpha, \n",
    "                                  mutation_probability=mutation_probability,\n",
    "                                  mating_probability=mating_probability, \n",
    "                                  feature_preferences=feature_preferences, \n",
    "                                  ext_verbose=1, \n",
    "                                  num_generations=num_generations, \n",
    "                                  normalize_weights=normalize_weights, \n",
    "                                  target_function=target_function,\n",
    "                                  performance_metric='accuracy', \n",
    "                                  n_jobs=-1)\n",
    "_ = xrf_mdl.fit(X_trn, y_trn)"
   ]
  },
  {
   "cell_type": "code",
   "execution_count": 14,
   "metadata": {},
   "outputs": [],
   "source": [
    "xrf_preds_trn = xrf_mdl.predict(X_trn)\n",
    "xrf_preds_tst = xrf_mdl.predict(X_tst)\n",
    "\n",
    "xrf_xs = (cosine_similarity(np.array(feature_preferences).reshape(1, -1), \\\n",
    "                            np.array(xrf_mdl.feature_importances_).reshape(1, -1))[0][0] + 1) / 2"
   ]
  },
  {
   "cell_type": "code",
   "execution_count": 15,
   "metadata": {},
   "outputs": [],
   "source": [
    "\n",
    "pdf_results.loc[len(pdf_results)] = ['XRF', 'Training', accuracy_score(y_trn, xrf_preds_trn), f1_score(y_trn, xrf_preds_trn, average=\"macro\"), np.nan]\n",
    "pdf_results.loc[len(pdf_results)] = ['XRF', 'Test', accuracy_score(y_tst, xrf_preds_tst), f1_score(y_tst, xrf_preds_tst, average=\"macro\"), xrf_xs]\n",
    "\n",
    "pdf_ftr_imprt.loc[len(pdf_ftr_imprt)] = ['FP'] + feature_preferences\n",
    "pdf_ftr_imprt.loc[len(pdf_ftr_imprt)] = ['XRF FI'] + list(xrf_mdl.feature_importances_)"
   ]
  },
  {
   "cell_type": "markdown",
   "metadata": {},
   "source": [
    "## Comparisons"
   ]
  },
  {
   "cell_type": "code",
   "execution_count": 16,
   "metadata": {},
   "outputs": [],
   "source": [
    "if 'ID' in pdf_results.columns:\n",
    "    pdf_results.set_index(['ID', 'Set'], drop=True, inplace=True)\n",
    "if 'ID' in pdf_ftr_imprt.columns:\n",
    "    pdf_ftr_imprt.set_index('ID', drop=True, inplace=True)"
   ]
  },
  {
   "cell_type": "code",
   "execution_count": 17,
   "metadata": {},
   "outputs": [],
   "source": [
    "def highlight_cols(df_in):\n",
    "    bbg = 'background-color: blue'\n",
    "    mbg = 'background-color: magenta'\n",
    "    df_sty = pd.DataFrame('', index=df_in.index, columns=df_in.columns)\n",
    "    for i in range(len(feature_preferences)):\n",
    "        if 0 < feature_preferences[i]:\n",
    "            df_sty.iloc[:, i] = bbg\n",
    "        elif 0 > feature_preferences[i]:\n",
    "            df_sty.iloc[:, i] = mbg\n",
    "    return df_sty"
   ]
  },
  {
   "cell_type": "code",
   "execution_count": 18,
   "metadata": {},
   "outputs": [
    {
     "data": {
      "text/html": [
       "<div>\n",
       "<style scoped>\n",
       "    .dataframe tbody tr th:only-of-type {\n",
       "        vertical-align: middle;\n",
       "    }\n",
       "\n",
       "    .dataframe tbody tr th {\n",
       "        vertical-align: top;\n",
       "    }\n",
       "\n",
       "    .dataframe thead th {\n",
       "        text-align: right;\n",
       "    }\n",
       "</style>\n",
       "<table border=\"1\" class=\"dataframe\">\n",
       "  <thead>\n",
       "    <tr style=\"text-align: right;\">\n",
       "      <th></th>\n",
       "      <th></th>\n",
       "      <th>Accuracy</th>\n",
       "      <th>Macro f1 score</th>\n",
       "      <th>XS</th>\n",
       "    </tr>\n",
       "    <tr>\n",
       "      <th>ID</th>\n",
       "      <th>Set</th>\n",
       "      <th></th>\n",
       "      <th></th>\n",
       "      <th></th>\n",
       "    </tr>\n",
       "  </thead>\n",
       "  <tbody>\n",
       "    <tr>\n",
       "      <th rowspan=\"2\" valign=\"top\">RF</th>\n",
       "      <th>Training</th>\n",
       "      <td>0.685274</td>\n",
       "      <td>0.713180</td>\n",
       "      <td>NaN</td>\n",
       "    </tr>\n",
       "    <tr>\n",
       "      <th>Test</th>\n",
       "      <td>0.611538</td>\n",
       "      <td>0.646408</td>\n",
       "      <td>0.192312</td>\n",
       "    </tr>\n",
       "    <tr>\n",
       "      <th rowspan=\"2\" valign=\"top\">XRF</th>\n",
       "      <th>Training</th>\n",
       "      <td>0.689124</td>\n",
       "      <td>0.716157</td>\n",
       "      <td>NaN</td>\n",
       "    </tr>\n",
       "    <tr>\n",
       "      <th>Test</th>\n",
       "      <td>0.626923</td>\n",
       "      <td>0.670479</td>\n",
       "      <td>0.215649</td>\n",
       "    </tr>\n",
       "  </tbody>\n",
       "</table>\n",
       "</div>"
      ],
      "text/plain": [
       "              Accuracy  Macro f1 score        XS\n",
       "ID  Set                                         \n",
       "RF  Training  0.685274        0.713180       NaN\n",
       "    Test      0.611538        0.646408  0.192312\n",
       "XRF Training  0.689124        0.716157       NaN\n",
       "    Test      0.626923        0.670479  0.215649"
      ]
     },
     "metadata": {},
     "output_type": "display_data"
    },
    {
     "data": {
      "text/html": [
       "<style type=\"text/css\">\n",
       "#T_85908_row0_col2, #T_85908_row0_col3, #T_85908_row1_col2, #T_85908_row1_col3, #T_85908_row2_col2, #T_85908_row2_col3 {\n",
       "  background-color: magenta;\n",
       "}\n",
       "#T_85908_row0_col4, #T_85908_row0_col5, #T_85908_row1_col4, #T_85908_row1_col5, #T_85908_row2_col4, #T_85908_row2_col5 {\n",
       "  background-color: blue;\n",
       "}\n",
       "</style>\n",
       "<table id=\"T_85908_\">\n",
       "  <thead>\n",
       "    <tr>\n",
       "      <th class=\"blank level0\" >&nbsp;</th>\n",
       "      <th class=\"col_heading level0 col0\" >mcg</th>\n",
       "      <th class=\"col_heading level0 col1\" >gvh</th>\n",
       "      <th class=\"col_heading level0 col2\" >alm</th>\n",
       "      <th class=\"col_heading level0 col3\" >mit</th>\n",
       "      <th class=\"col_heading level0 col4\" >erl</th>\n",
       "      <th class=\"col_heading level0 col5\" >pox</th>\n",
       "      <th class=\"col_heading level0 col6\" >vac</th>\n",
       "      <th class=\"col_heading level0 col7\" >nuc</th>\n",
       "    </tr>\n",
       "    <tr>\n",
       "      <th class=\"index_name level0\" >ID</th>\n",
       "      <th class=\"blank col0\" >&nbsp;</th>\n",
       "      <th class=\"blank col1\" >&nbsp;</th>\n",
       "      <th class=\"blank col2\" >&nbsp;</th>\n",
       "      <th class=\"blank col3\" >&nbsp;</th>\n",
       "      <th class=\"blank col4\" >&nbsp;</th>\n",
       "      <th class=\"blank col5\" >&nbsp;</th>\n",
       "      <th class=\"blank col6\" >&nbsp;</th>\n",
       "      <th class=\"blank col7\" >&nbsp;</th>\n",
       "    </tr>\n",
       "  </thead>\n",
       "  <tbody>\n",
       "    <tr>\n",
       "      <th id=\"T_85908_level0_row0\" class=\"row_heading level0 row0\" >RF FI</th>\n",
       "      <td id=\"T_85908_row0_col0\" class=\"data row0 col0\" >0.078432</td>\n",
       "      <td id=\"T_85908_row0_col1\" class=\"data row0 col1\" >0.096517</td>\n",
       "      <td id=\"T_85908_row0_col2\" class=\"data row0 col2\" >0.361567</td>\n",
       "      <td id=\"T_85908_row0_col3\" class=\"data row0 col3\" >0.236278</td>\n",
       "      <td id=\"T_85908_row0_col4\" class=\"data row0 col4\" >0.002684</td>\n",
       "      <td id=\"T_85908_row0_col5\" class=\"data row0 col5\" >0.001634</td>\n",
       "      <td id=\"T_85908_row0_col6\" class=\"data row0 col6\" >0.058114</td>\n",
       "      <td id=\"T_85908_row0_col7\" class=\"data row0 col7\" >0.164776</td>\n",
       "    </tr>\n",
       "    <tr>\n",
       "      <th id=\"T_85908_level0_row1\" class=\"row_heading level0 row1\" >FP</th>\n",
       "      <td id=\"T_85908_row1_col0\" class=\"data row1 col0\" >0.000000</td>\n",
       "      <td id=\"T_85908_row1_col1\" class=\"data row1 col1\" >0.000000</td>\n",
       "      <td id=\"T_85908_row1_col2\" class=\"data row1 col2\" >-1.000000</td>\n",
       "      <td id=\"T_85908_row1_col3\" class=\"data row1 col3\" >-1.000000</td>\n",
       "      <td id=\"T_85908_row1_col4\" class=\"data row1 col4\" >1.000000</td>\n",
       "      <td id=\"T_85908_row1_col5\" class=\"data row1 col5\" >1.000000</td>\n",
       "      <td id=\"T_85908_row1_col6\" class=\"data row1 col6\" >0.000000</td>\n",
       "      <td id=\"T_85908_row1_col7\" class=\"data row1 col7\" >0.000000</td>\n",
       "    </tr>\n",
       "    <tr>\n",
       "      <th id=\"T_85908_level0_row2\" class=\"row_heading level0 row2\" >XRF FI</th>\n",
       "      <td id=\"T_85908_row2_col0\" class=\"data row2 col0\" >0.089688</td>\n",
       "      <td id=\"T_85908_row2_col1\" class=\"data row2 col1\" >0.112325</td>\n",
       "      <td id=\"T_85908_row2_col2\" class=\"data row2 col2\" >0.376093</td>\n",
       "      <td id=\"T_85908_row2_col3\" class=\"data row2 col3\" >0.179957</td>\n",
       "      <td id=\"T_85908_row2_col4\" class=\"data row2 col4\" >0.001769</td>\n",
       "      <td id=\"T_85908_row2_col5\" class=\"data row2 col5\" >0.007822</td>\n",
       "      <td id=\"T_85908_row2_col6\" class=\"data row2 col6\" >0.048062</td>\n",
       "      <td id=\"T_85908_row2_col7\" class=\"data row2 col7\" >0.184285</td>\n",
       "    </tr>\n",
       "  </tbody>\n",
       "</table>\n"
      ],
      "text/plain": [
       "<pandas.io.formats.style.Styler at 0x7fce306ad9d0>"
      ]
     },
     "metadata": {},
     "output_type": "display_data"
    }
   ],
   "source": [
    "display(pdf_results)\n",
    "display(pdf_ftr_imprt.style.apply(highlight_cols, axis=None))"
   ]
  },
  {
   "cell_type": "code",
   "execution_count": null,
   "metadata": {},
   "outputs": [],
   "source": []
  }
 ],
 "metadata": {
  "kernelspec": {
   "display_name": "py37",
   "language": "python",
   "name": "python3"
  },
  "language_info": {
   "codemirror_mode": {
    "name": "ipython",
    "version": 3
   },
   "file_extension": ".py",
   "mimetype": "text/x-python",
   "name": "python",
   "nbconvert_exporter": "python",
   "pygments_lexer": "ipython3",
   "version": "3.7.10"
  },
  "orig_nbformat": 4
 },
 "nbformat": 4,
 "nbformat_minor": 2
}
